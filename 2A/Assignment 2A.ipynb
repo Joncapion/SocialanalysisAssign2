{
 "cells": [
  {
   "cell_type": "code",
   "execution_count": 1,
   "metadata": {
    "collapsed": true
   },
   "outputs": [],
   "source": [
    "import pandas as pd\n",
    "from collections import Counter\n",
    "import csv"
   ]
  },
  {
   "cell_type": "code",
   "execution_count": 2,
   "metadata": {
    "collapsed": true
   },
   "outputs": [],
   "source": [
    "# Importing the data\n",
    "data = pd.read_csv('SFPD_Incidents_-_from_1_January_2003.csv')"
   ]
  },
  {
   "cell_type": "code",
   "execution_count": 3,
   "metadata": {
    "collapsed": true
   },
   "outputs": [],
   "source": [
    "# Changing the format of the dates in the data, such that it is easier to extract the wanted values\n",
    "data[\"Date\"] = data[\"Date\"].str.replace(\"(\\d\\d\\/)+(2003)\",\"2003\")\n",
    "data[\"Date\"] = data[\"Date\"].str.replace(\"(\\d\\d\\/)+(2015)\",\"2015\")"
   ]
  },
  {
   "cell_type": "code",
   "execution_count": 4,
   "metadata": {
    "collapsed": true
   },
   "outputs": [],
   "source": [
    "# Extracting the wanted values\n",
    "data2003 = data[data[\"Date\"] == \"2003\"]\n",
    "data2015 = data[data[\"Date\"] == \"2015\"]"
   ]
  },
  {
   "cell_type": "code",
   "execution_count": 5,
   "metadata": {
    "collapsed": true
   },
   "outputs": [],
   "source": [
    "# Setting up a set of district names\n",
    "districts = set(data2003[\"PdDistrict\"])"
   ]
  },
  {
   "cell_type": "code",
   "execution_count": 6,
   "metadata": {
    "collapsed": true
   },
   "outputs": [],
   "source": [
    "# Grabbing the wanted data from the dataset of 2003\n",
    "d_dict = {}\n",
    "for i in districts:\n",
    "    d_dict[i] = data2003[data2003[\"PdDistrict\"] == i]\n",
    "    \n",
    "total_crimes = {}\n",
    "for i in d_dict:\n",
    "    total_crimes[i] = len(d_dict[i])\n",
    "\n",
    "n = max(total_crimes.values())\n",
    "\n",
    "for i in total_crimes:\n",
    "    total_crimes[i] = (float(total_crimes[i])/n)*10\n",
    "    \n",
    "output = [[\"District\",\"Radius\",\"NoPros\",\"NoVehicle\"]]\n",
    "for i in total_crimes:\n",
    "    temp = Counter(d_dict[i][\"Category\"])\n",
    "    temp2 = [i,total_crimes[i],temp[\"PROSTITUTION\"],temp[\"VEHICLE THEFT\"]]\n",
    "    output.append(temp2)\n",
    "    \n",
    "f = open(\"visualization_2003.csv\", 'w')\n",
    "writer = csv.writer(f)\n",
    "for row in output:\n",
    "        writer.writerow(row)\n",
    "f.close()"
   ]
  },
  {
   "cell_type": "code",
   "execution_count": 7,
   "metadata": {
    "collapsed": true
   },
   "outputs": [],
   "source": [
    "# Grabbing the wanted data from the dataset of 2015\n",
    "d_dict = {}\n",
    "for i in districts:\n",
    "    d_dict[i] = data2015[data2015[\"PdDistrict\"] == i]\n",
    "    \n",
    "total_crimes = {}\n",
    "for i in d_dict:\n",
    "    total_crimes[i] = len(d_dict[i])\n",
    "\n",
    "n = max(total_crimes.values())\n",
    "\n",
    "for i in total_crimes:\n",
    "    total_crimes[i] = (float(total_crimes[i])/n)*10\n",
    "    \n",
    "output = [[\"District\",\"Radius\",\"NoPros\",\"NoVehicle\"]]\n",
    "for i in total_crimes:\n",
    "    temp = Counter(d_dict[i][\"Category\"])\n",
    "    temp2 = [i,total_crimes[i],temp[\"PROSTITUTION\"],temp[\"VEHICLE THEFT\"]]\n",
    "    output.append(temp2)\n",
    "    \n",
    "f = open(\"visualization_2015.csv\", 'w')\n",
    "writer = csv.writer(f)\n",
    "for row in output:\n",
    "        writer.writerow(row)\n",
    "f.close()"
   ]
  }
 ],
 "metadata": {
  "anaconda-cloud": {},
  "kernelspec": {
   "display_name": "Python [Root]",
   "language": "python",
   "name": "Python [Root]"
  },
  "language_info": {
   "codemirror_mode": {
    "name": "ipython",
    "version": 2
   },
   "file_extension": ".py",
   "mimetype": "text/x-python",
   "name": "python",
   "nbconvert_exporter": "python",
   "pygments_lexer": "ipython2",
   "version": "2.7.12"
  }
 },
 "nbformat": 4,
 "nbformat_minor": 0
}
