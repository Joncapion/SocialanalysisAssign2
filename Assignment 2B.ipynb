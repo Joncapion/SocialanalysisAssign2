{
 "cells": [
  {
   "cell_type": "code",
   "execution_count": 1,
   "metadata": {
    "collapsed": true
   },
   "outputs": [],
   "source": [
    "import csv\n",
    "import numpy as np\n",
    "import pandas as pd\n",
    "from sklearn.cluster import KMeans"
   ]
  },
  {
   "cell_type": "code",
   "execution_count": 2,
   "metadata": {
    "collapsed": true
   },
   "outputs": [],
   "source": [
    "# Importing the data file\n",
    "data = pd.read_csv('SFPD_Incidents_-_from_1_January_2003.csv')"
   ]
  },
  {
   "cell_type": "code",
   "execution_count": 3,
   "metadata": {
    "collapsed": true
   },
   "outputs": [],
   "source": [
    "# Setting up the Categories and the coordinates X and Y\n",
    "category = data[\"Category\"]\n",
    "X = data[\"X\"]\n",
    "Y = data[\"Y\"]"
   ]
  },
  {
   "cell_type": "code",
   "execution_count": 4,
   "metadata": {
    "collapsed": true
   },
   "outputs": [],
   "source": [
    "# Extracting the coordinates for PROSTITUTION only\n",
    "coordinates = []\n",
    "for i in range(len(category)):\n",
    "    if category[i] == \"PROSTITUTION\" and float(Y[i]) != 90: #Remove Y = 90 points, they have no meaning\n",
    "        coordinates.append([float(X[i]),float(Y[i])])\n",
    "coordinates = np.array(coordinates)"
   ]
  },
  {
   "cell_type": "code",
   "execution_count": 5,
   "metadata": {
    "collapsed": false
   },
   "outputs": [],
   "source": [
    "# Fitting the Kmeans model for the different values of K and saving the data to two files\n",
    "K = [2,3,4,5,6]\n",
    "for i in K:\n",
    "    Model = KMeans(n_clusters = i)\n",
    "    Model.fit(coordinates)\n",
    "    p_dict = {\"labels\" : Model.labels_, \"X\" : coordinates[:,0], \"Y\" : coordinates[:,1]} \n",
    "    data = pd.DataFrame(p_dict)\n",
    "    data.to_csv(\"Kmeans\" + str(i) + \".csv\")\n",
    "    centroids = {\"Xc\" : np.append(Model.cluster_centers_[:,0],[0]*(6-i)), \\\n",
    "                 \"Yc\" : np.append(Model.cluster_centers_[:,1],[0]*(6-i)) , \"labels\" : range(i)+[10]*(6-i)} \n",
    "    data2 = pd.DataFrame(centroids) \n",
    "    data2.to_csv(\"Centroids\" + str(i) + \".csv\")"
   ]
  }
 ],
 "metadata": {
  "anaconda-cloud": {},
  "kernelspec": {
   "display_name": "Python [Root]",
   "language": "python",
   "name": "Python [Root]"
  },
  "language_info": {
   "codemirror_mode": {
    "name": "ipython",
    "version": 2
   },
   "file_extension": ".py",
   "mimetype": "text/x-python",
   "name": "python",
   "nbconvert_exporter": "python",
   "pygments_lexer": "ipython2",
   "version": "2.7.12"
  }
 },
 "nbformat": 4,
 "nbformat_minor": 0
}
